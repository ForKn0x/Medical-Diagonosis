{
 "cells": [
  {
   "cell_type": "code",
   "execution_count": 1,
   "id": "7e2a0c2e",
   "metadata": {},
   "outputs": [],
   "source": [
    "import pandas as pd"
   ]
  },
  {
   "cell_type": "code",
   "execution_count": 3,
   "id": "8cffffbc",
   "metadata": {},
   "outputs": [],
   "source": [
    "df = pd.read_csv('Training.csv')"
   ]
  },
  {
   "cell_type": "code",
   "execution_count": 4,
   "id": "54b66469",
   "metadata": {},
   "outputs": [
    {
     "data": {
      "text/html": [
       "<div>\n",
       "<style scoped>\n",
       "    .dataframe tbody tr th:only-of-type {\n",
       "        vertical-align: middle;\n",
       "    }\n",
       "\n",
       "    .dataframe tbody tr th {\n",
       "        vertical-align: top;\n",
       "    }\n",
       "\n",
       "    .dataframe thead th {\n",
       "        text-align: right;\n",
       "    }\n",
       "</style>\n",
       "<table border=\"1\" class=\"dataframe\">\n",
       "  <thead>\n",
       "    <tr style=\"text-align: right;\">\n",
       "      <th></th>\n",
       "      <th>symptoms</th>\n",
       "      <th>prognosis</th>\n",
       "    </tr>\n",
       "  </thead>\n",
       "  <tbody>\n",
       "    <tr>\n",
       "      <th>0</th>\n",
       "      <td>Patient reports no spotting urination. No evid...</td>\n",
       "      <td>Urinary tract infection</td>\n",
       "    </tr>\n",
       "    <tr>\n",
       "      <th>1</th>\n",
       "      <td>mood swings is not present. joint pain. ulcers...</td>\n",
       "      <td>Osteoarthristis</td>\n",
       "    </tr>\n",
       "    <tr>\n",
       "      <th>2</th>\n",
       "      <td>Reported signs of yellowing of eyes. Reported ...</td>\n",
       "      <td>Tuberculosis</td>\n",
       "    </tr>\n",
       "    <tr>\n",
       "      <th>3</th>\n",
       "      <td>swelled lymph nodes over the last few days. No...</td>\n",
       "      <td>Chicken pox</td>\n",
       "    </tr>\n",
       "    <tr>\n",
       "      <th>4</th>\n",
       "      <td>Reported signs of knee pain. Issues of frequen...</td>\n",
       "      <td>Osteoarthristis</td>\n",
       "    </tr>\n",
       "  </tbody>\n",
       "</table>\n",
       "</div>"
      ],
      "text/plain": [
       "                                            symptoms                prognosis\n",
       "0  Patient reports no spotting urination. No evid...  Urinary tract infection\n",
       "1  mood swings is not present. joint pain. ulcers...          Osteoarthristis\n",
       "2  Reported signs of yellowing of eyes. Reported ...             Tuberculosis\n",
       "3  swelled lymph nodes over the last few days. No...              Chicken pox\n",
       "4  Reported signs of knee pain. Issues of frequen...          Osteoarthristis"
      ]
     },
     "execution_count": 4,
     "metadata": {},
     "output_type": "execute_result"
    }
   ],
   "source": [
    "df.head()"
   ]
  },
  {
   "cell_type": "code",
   "execution_count": 5,
   "id": "9f913b67",
   "metadata": {},
   "outputs": [
    {
     "data": {
      "text/plain": [
       "Urinary tract infection                    97\n",
       "Osteoarthristis                            97\n",
       "Hypoglycemia                               97\n",
       "Allergy                                    97\n",
       "Hepatitis D                                97\n",
       "GERD                                       97\n",
       "Dimorphic hemmorhoids(piles)               97\n",
       "Paralysis (brain hemorrhage)               97\n",
       "Heart attack                               97\n",
       "Psoriasis                                  97\n",
       "Typhoid                                    97\n",
       "Dengue                                     97\n",
       "Hypertension                               97\n",
       "Pneumonia                                  97\n",
       "Hepatitis B                                97\n",
       "AIDS                                       97\n",
       "Jaundice                                   97\n",
       "Cervical spondylosis                       97\n",
       "Malaria                                    97\n",
       "Arthritis                                  97\n",
       "Common Cold                                97\n",
       "Peptic ulcer diseae                        97\n",
       "Tuberculosis                               97\n",
       "Hypothyroidism                             97\n",
       "Drug Reaction                              97\n",
       "hepatitis A                                97\n",
       "Chicken pox                                97\n",
       "Fungal infection                           97\n",
       "Impetigo                                   97\n",
       "Gastroenteritis                            97\n",
       "Migraine                                   97\n",
       "Diabetes                                   97\n",
       "Acne                                       97\n",
       "Varicose veins                             96\n",
       "Hepatitis E                                96\n",
       "Chronic cholestasis                        96\n",
       "Alcoholic hepatitis                        96\n",
       "(vertigo) Paroymsal  Positional Vertigo    96\n",
       "Hepatitis C                                96\n",
       "Hyperthyroidism                            96\n",
       "Bronchial Asthma                           96\n",
       "Name: prognosis, dtype: int64"
      ]
     },
     "execution_count": 5,
     "metadata": {},
     "output_type": "execute_result"
    }
   ],
   "source": [
    "df.prognosis.value_counts()"
   ]
  },
  {
   "cell_type": "code",
   "execution_count": null,
   "id": "c4db5401",
   "metadata": {},
   "outputs": [],
   "source": []
  }
 ],
 "metadata": {
  "kernelspec": {
   "display_name": "Python 3 (ipykernel)",
   "language": "python",
   "name": "python3"
  },
  "language_info": {
   "codemirror_mode": {
    "name": "ipython",
    "version": 3
   },
   "file_extension": ".py",
   "mimetype": "text/x-python",
   "name": "python",
   "nbconvert_exporter": "python",
   "pygments_lexer": "ipython3",
   "version": "3.9.12"
  }
 },
 "nbformat": 4,
 "nbformat_minor": 5
}
